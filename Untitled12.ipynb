{
 "cells": [
  {
   "cell_type": "code",
   "execution_count": 4,
   "id": "cf03aaa0",
   "metadata": {},
   "outputs": [
    {
     "name": "stdout",
     "output_type": "stream",
     "text": [
      "29 adalah bilangan prima.\n"
     ]
    }
   ],
   "source": [
    "def prima_rekursif(n, i=2):\n",
    "    if n <= 1:\n",
    "        return False\n",
    "\n",
    "    if i * i > n:\n",
    "        return True\n",
    "    \n",
    "    if n % i == 0:\n",
    "        return False\n",
    "    \n",
    "    return is_prima_rekursif(n, i + 1)\n",
    "\n",
    "angka = 29\n",
    "if prima_rekursid(angka):\n",
    "    print(f\"{angka} adalah bilangan prima.\")\n",
    "else:\n",
    "    print(f\"{angka} bukan bilangan prima.\")\n"
   ]
  },
  {
   "cell_type": "code",
   "execution_count": 7,
   "id": "3f30833d",
   "metadata": {},
   "outputs": [
    {
     "name": "stdout",
     "output_type": "stream",
     "text": [
      "\"A man, a plan, a canal, Panama\" adalah palindrom.\n"
     ]
    }
   ],
   "source": [
    "def palindrome_rekursif(s, left, right):\n",
    "    s = ''.join(char for char in s if char.isalnum()).lower()\n",
    "    \n",
    "    if left >= right:\n",
    "        return True\n",
    "    \n",
    "    if s[left] != s[right]:\n",
    "        return False\n",
    "    \n",
    "    return palindrome_rekursif(s, left + 1, right - 1)\n",
    "\n",
    "def palindrome(s):\n",
    "    s = ''.join(char for char in s if char.isalnum()).lower()\n",
    "    return palindrome_rekursif(s, 0, len(s) - 1)\n",
    "\n",
    "kalimat = \"A man, a plan, a canal, Panama\"\n",
    "if palindrome(kalimat):\n",
    "    print(f'\"{kalimat}\" adalah palindrom.')\n",
    "else:\n",
    "    print(f'\"{kalimat}\" bukan palindrom.')"
   ]
  },
  {
   "cell_type": "code",
   "execution_count": 10,
   "id": "c1fb5e92",
   "metadata": {},
   "outputs": [
    {
     "name": "stdout",
     "output_type": "stream",
     "text": [
      "Masukkan bilangan: 10\n",
      "Jumlah deret bilangan ganjil hingga 10 adalah 25\n"
     ]
    }
   ],
   "source": [
    "def jumlah_ganjil_rekursif(n):\n",
    "    if n % 2 == 0:\n",
    "        n -= 1\n",
    "    \n",
    "    if n <= 0:\n",
    "        return 0\n",
    "    \n",
    "    return n + jumlah_ganjil_rekursif(n - 2)\n",
    "\n",
    "n = int(input(\"Masukkan bilangan: \"))\n",
    "print(f\"Jumlah deret bilangan ganjil hingga {n} adalah {jumlah_ganjil_rekursif(n)}\")\n"
   ]
  },
  {
   "cell_type": "code",
   "execution_count": 11,
   "id": "17a0aeaa",
   "metadata": {},
   "outputs": [
    {
     "name": "stdout",
     "output_type": "stream",
     "text": [
      "Kombinasi dari 5 choose 2 adalah 10\n"
     ]
    }
   ],
   "source": [
    "def kombinasi(n, k):\n",
    "    # Basis kasus\n",
    "    if k == 0 or k == n:\n",
    "        return 1\n",
    "    else:\n",
    "        # Rekursif: C(n, k) = C(n-1, k-1) + C(n-1, k)\n",
    "        return kombinasi(n-1, k-1) + kombinasi(n-1, k)\n",
    "\n",
    "# Contoh penggunaan\n",
    "n = 5\n",
    "k = 2\n",
    "hasil = kombinasi(n, k)\n",
    "print(f\"Kombinasi dari {n} choose {k} adalah {hasil}\")"
   ]
  },
  {
   "cell_type": "code",
   "execution_count": null,
   "id": "21b2ffbe",
   "metadata": {},
   "outputs": [],
   "source": []
  }
 ],
 "metadata": {
  "kernelspec": {
   "display_name": "Python 3 (ipykernel)",
   "language": "python",
   "name": "python3"
  },
  "language_info": {
   "codemirror_mode": {
    "name": "ipython",
    "version": 3
   },
   "file_extension": ".py",
   "mimetype": "text/x-python",
   "name": "python",
   "nbconvert_exporter": "python",
   "pygments_lexer": "ipython3",
   "version": "3.11.5"
  }
 },
 "nbformat": 4,
 "nbformat_minor": 5
}
